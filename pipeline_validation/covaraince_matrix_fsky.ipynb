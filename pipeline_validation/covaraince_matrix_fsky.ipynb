{
 "cells": [
  {
   "cell_type": "code",
   "execution_count": 1,
   "metadata": {},
   "outputs": [],
   "source": [
    "import matplotlib\n",
    "import numpy as np\n",
    "import matplotlib.pyplot as plt\n",
    "%matplotlib inline\n",
    "#import pandas as pd\n",
    "import astropy.io.fits as fits\n",
    "#from astropy import units as u\n",
    "#from astropy import constants as const\n",
    "\n",
    "\n",
    "plt.style.use(['science'])#,'no-latex'])\n",
    "\n",
    "#load cosmolike interface tools\n",
    "import sys\n",
    "sys.path.append('../2pt_modified/')\n",
    "\n",
    "import cosmolike_metadata\n",
    "import twopoint\n",
    "\n"
   ]
  },
  {
   "cell_type": "code",
   "execution_count": 35,
   "metadata": {},
   "outputs": [],
   "source": [
    "filename = \"../6x2pt_Roman_SO_v1_2_bf26108.fits\"\n",
    "\n",
    "two_point_data = twopoint.TwoPointFile.from_fits(filename)\n",
    "#cosmosis = loop_comosis_datavector(two_point_data)"
   ]
  },
  {
   "cell_type": "code",
   "execution_count": 10,
   "metadata": {},
   "outputs": [
    {
     "data": {
      "text/plain": [
       "(2360, 2360)"
      ]
     },
     "execution_count": 10,
     "metadata": {},
     "output_type": "execute_result"
    }
   ],
   "source": [
    "covmat = two_point_data.covmat#_info\n",
    "covmat.shape"
   ]
  },
  {
   "cell_type": "code",
   "execution_count": 11,
   "metadata": {},
   "outputs": [
    {
     "data": {
      "text/plain": [
       "array([[ 3.30711111e+18, -1.98058247e+16, -2.54157471e+16, ...,\n",
       "        -1.49738041e+15, -9.37743139e+14, -3.62717567e+14],\n",
       "       [-1.98058247e+16,  6.87697800e+18, -4.37552252e+16, ...,\n",
       "        -2.58516745e+15, -1.62031234e+15, -6.25813709e+14],\n",
       "       [-2.54157471e+16, -4.37552252e+16,  1.19792974e+19, ...,\n",
       "        -3.75596689e+15, -2.34405975e+15, -9.02783130e+14],\n",
       "       ...,\n",
       "       [-1.49738041e+15, -2.58516745e+15, -3.75596688e+15, ...,\n",
       "         1.31591418e+19,  1.17143617e+16,  4.39756602e+15],\n",
       "       [-9.37743139e+14, -1.62031234e+15, -2.34405975e+15, ...,\n",
       "         1.17143617e+16,  1.08280463e+19,  2.67802223e+15],\n",
       "       [-3.62717567e+14, -6.25813710e+14, -9.02783132e+14, ...,\n",
       "         4.39756602e+15,  2.67802223e+15,  5.76791522e+18]])"
      ]
     },
     "execution_count": 11,
     "metadata": {},
     "output_type": "execute_result"
    }
   ],
   "source": [
    "#inverting works\n",
    "np.linalg.inv(covmat)"
   ]
  },
  {
   "cell_type": "code",
   "execution_count": 39,
   "metadata": {},
   "outputs": [
    {
     "data": {
      "text/plain": [
       "array([[ 3.30711111e+18, -1.98058247e+16, -2.54157471e+16, ...,\n",
       "        -4.30105215e+15, -2.69355878e+15, -1.04186429e+15],\n",
       "       [-1.98058247e+16,  6.87697800e+18, -4.37552252e+16, ...,\n",
       "        -7.42559472e+15, -4.65415993e+15, -1.79757755e+15],\n",
       "       [-2.54157471e+16, -4.37552252e+16,  1.19792974e+19, ...,\n",
       "        -1.07885808e+16, -6.73304070e+15, -2.59314020e+15],\n",
       "       ...,\n",
       "       [-4.30105215e+15, -7.42559472e+15, -1.07885807e+16, ...,\n",
       "         1.08570713e+20,  9.66504221e+16,  3.62825241e+16],\n",
       "       [-2.69355878e+15, -4.65415993e+15, -6.73304071e+15, ...,\n",
       "         9.66504221e+16,  8.93377951e+19,  2.20952694e+16],\n",
       "       [-1.04186429e+15, -1.79757755e+15, -2.59314020e+15, ...,\n",
       "         3.62825241e+16,  2.20952694e+16,  4.75887166e+19]])"
      ]
     },
     "execution_count": 39,
     "metadata": {},
     "output_type": "execute_result"
    }
   ],
   "source": [
    "covmat_samearea = np.copy(covmat)\n",
    "\n",
    "#kappa kappa is covmat[2340:, 2340:]\n",
    "#rescale to same area\n",
    "covmat_samearea[:,2340: ] = np.sqrt(0.0484813681/0.4) * covmat_samearea[:,2340: ]\n",
    "covmat_samearea[2340: , :] = np.sqrt(0.0484813681/0.4) * covmat_samearea[2340:, : ]\n",
    "\n",
    "\n",
    "#inverting works\n",
    "np.linalg.inv(covmat_samearea)"
   ]
  },
  {
   "cell_type": "code",
   "execution_count": 36,
   "metadata": {},
   "outputs": [
    {
     "data": {
      "text/plain": [
       "array([[ 3.30709437e+18, -1.98350296e+16, -2.54581853e+16, ...,\n",
       "        -4.70294477e+15, -2.54475156e+15, -9.17764613e+14],\n",
       "       [-1.98350296e+16,  6.87692703e+18, -4.38292892e+16, ...,\n",
       "        -8.09931013e+15, -4.38735610e+15, -1.57967826e+15],\n",
       "       [-2.54581853e+16, -4.38292892e+16,  1.19791898e+19, ...,\n",
       "        -1.17634530e+16, -6.33961727e+15, -2.27499933e+15],\n",
       "       ...,\n",
       "       [-4.70294477e+15, -8.09931013e+15, -1.17634530e+16, ...,\n",
       "         1.75450854e+19,  1.16585166e+17,  4.05312274e+16],\n",
       "       [-2.54475156e+15, -4.38735611e+15, -6.33961728e+15, ...,\n",
       "         1.16585166e+17,  1.22942465e+19,  2.12134894e+16],\n",
       "       [-9.17764613e+14, -1.57967826e+15, -2.27499934e+15, ...,\n",
       "         4.05312274e+16,  2.12134894e+16,  6.04711526e+18]])"
      ]
     },
     "execution_count": 36,
     "metadata": {},
     "output_type": "execute_result"
    }
   ],
   "source": [
    "covmat_uselargearea = np.copy(covmat)\n",
    "\n",
    "#kappa kappa is covmat[2340:, 2340:]\n",
    "#rescale to same area\n",
    "covmat_uselargearea[:2340,2340: ] = np.sqrt(0.4/0.0484813681) * covmat_uselargearea[:2340,2340: ]\n",
    "covmat_uselargearea[2340: , :2340] = np.sqrt(0.4/0.0484813681) * covmat_uselargearea[2340:, :2340 ]\n",
    "\n",
    "\n",
    "#inverting works\n",
    "np.linalg.inv(covmat_uselargearea)"
   ]
  },
  {
   "cell_type": "code",
   "execution_count": 37,
   "metadata": {},
   "outputs": [
    {
     "ename": "LinAlgError",
     "evalue": "Matrix is not positive definite",
     "output_type": "error",
     "traceback": [
      "\u001b[0;31m---------------------------------------------------------------------------\u001b[0m",
      "\u001b[0;31mLinAlgError\u001b[0m                               Traceback (most recent call last)",
      "\u001b[0;32m<ipython-input-37-5ee0e090fbbb>\u001b[0m in \u001b[0;36m<module>\u001b[0;34m\u001b[0m\n\u001b[0;32m----> 1\u001b[0;31m \u001b[0mnp\u001b[0m\u001b[0;34m.\u001b[0m\u001b[0mlinalg\u001b[0m\u001b[0;34m.\u001b[0m\u001b[0mcholesky\u001b[0m\u001b[0;34m(\u001b[0m\u001b[0mcovmat_uselargearea\u001b[0m\u001b[0;34m)\u001b[0m\u001b[0;34m\u001b[0m\u001b[0;34m\u001b[0m\u001b[0m\n\u001b[0m",
      "\u001b[0;32m<__array_function__ internals>\u001b[0m in \u001b[0;36mcholesky\u001b[0;34m(*args, **kwargs)\u001b[0m\n",
      "\u001b[0;32m~/anaconda3/envs/cosmology/lib/python3.8/site-packages/numpy/linalg/linalg.py\u001b[0m in \u001b[0;36mcholesky\u001b[0;34m(a)\u001b[0m\n\u001b[1;32m    762\u001b[0m     \u001b[0mt\u001b[0m\u001b[0;34m,\u001b[0m \u001b[0mresult_t\u001b[0m \u001b[0;34m=\u001b[0m \u001b[0m_commonType\u001b[0m\u001b[0;34m(\u001b[0m\u001b[0ma\u001b[0m\u001b[0;34m)\u001b[0m\u001b[0;34m\u001b[0m\u001b[0;34m\u001b[0m\u001b[0m\n\u001b[1;32m    763\u001b[0m     \u001b[0msignature\u001b[0m \u001b[0;34m=\u001b[0m \u001b[0;34m'D->D'\u001b[0m \u001b[0;32mif\u001b[0m \u001b[0misComplexType\u001b[0m\u001b[0;34m(\u001b[0m\u001b[0mt\u001b[0m\u001b[0;34m)\u001b[0m \u001b[0;32melse\u001b[0m \u001b[0;34m'd->d'\u001b[0m\u001b[0;34m\u001b[0m\u001b[0;34m\u001b[0m\u001b[0m\n\u001b[0;32m--> 764\u001b[0;31m     \u001b[0mr\u001b[0m \u001b[0;34m=\u001b[0m \u001b[0mgufunc\u001b[0m\u001b[0;34m(\u001b[0m\u001b[0ma\u001b[0m\u001b[0;34m,\u001b[0m \u001b[0msignature\u001b[0m\u001b[0;34m=\u001b[0m\u001b[0msignature\u001b[0m\u001b[0;34m,\u001b[0m \u001b[0mextobj\u001b[0m\u001b[0;34m=\u001b[0m\u001b[0mextobj\u001b[0m\u001b[0;34m)\u001b[0m\u001b[0;34m\u001b[0m\u001b[0;34m\u001b[0m\u001b[0m\n\u001b[0m\u001b[1;32m    765\u001b[0m     \u001b[0;32mreturn\u001b[0m \u001b[0mwrap\u001b[0m\u001b[0;34m(\u001b[0m\u001b[0mr\u001b[0m\u001b[0;34m.\u001b[0m\u001b[0mastype\u001b[0m\u001b[0;34m(\u001b[0m\u001b[0mresult_t\u001b[0m\u001b[0;34m,\u001b[0m \u001b[0mcopy\u001b[0m\u001b[0;34m=\u001b[0m\u001b[0;32mFalse\u001b[0m\u001b[0;34m)\u001b[0m\u001b[0;34m)\u001b[0m\u001b[0;34m\u001b[0m\u001b[0;34m\u001b[0m\u001b[0m\n\u001b[1;32m    766\u001b[0m \u001b[0;34m\u001b[0m\u001b[0m\n",
      "\u001b[0;32m~/anaconda3/envs/cosmology/lib/python3.8/site-packages/numpy/linalg/linalg.py\u001b[0m in \u001b[0;36m_raise_linalgerror_nonposdef\u001b[0;34m(err, flag)\u001b[0m\n\u001b[1;32m     89\u001b[0m \u001b[0;34m\u001b[0m\u001b[0m\n\u001b[1;32m     90\u001b[0m \u001b[0;32mdef\u001b[0m \u001b[0m_raise_linalgerror_nonposdef\u001b[0m\u001b[0;34m(\u001b[0m\u001b[0merr\u001b[0m\u001b[0;34m,\u001b[0m \u001b[0mflag\u001b[0m\u001b[0;34m)\u001b[0m\u001b[0;34m:\u001b[0m\u001b[0;34m\u001b[0m\u001b[0;34m\u001b[0m\u001b[0m\n\u001b[0;32m---> 91\u001b[0;31m     \u001b[0;32mraise\u001b[0m \u001b[0mLinAlgError\u001b[0m\u001b[0;34m(\u001b[0m\u001b[0;34m\"Matrix is not positive definite\"\u001b[0m\u001b[0;34m)\u001b[0m\u001b[0;34m\u001b[0m\u001b[0;34m\u001b[0m\u001b[0m\n\u001b[0m\u001b[1;32m     92\u001b[0m \u001b[0;34m\u001b[0m\u001b[0m\n\u001b[1;32m     93\u001b[0m \u001b[0;32mdef\u001b[0m \u001b[0m_raise_linalgerror_eigenvalues_nonconvergence\u001b[0m\u001b[0;34m(\u001b[0m\u001b[0merr\u001b[0m\u001b[0;34m,\u001b[0m \u001b[0mflag\u001b[0m\u001b[0;34m)\u001b[0m\u001b[0;34m:\u001b[0m\u001b[0;34m\u001b[0m\u001b[0;34m\u001b[0m\u001b[0m\n",
      "\u001b[0;31mLinAlgError\u001b[0m: Matrix is not positive definite"
     ]
    }
   ],
   "source": [
    "np.linalg.cholesky(covmat_uselargearea)"
   ]
  },
  {
   "cell_type": "code",
   "execution_count": 38,
   "metadata": {},
   "outputs": [
    {
     "data": {
      "text/plain": [
       "False"
      ]
     },
     "execution_count": 38,
     "metadata": {},
     "output_type": "execute_result"
    }
   ],
   "source": [
    "np.all(np.linalg.eigvals(covmat_uselargearea) > 0)"
   ]
  },
  {
   "cell_type": "code",
   "execution_count": 31,
   "metadata": {},
   "outputs": [
    {
     "data": {
      "text/plain": [
       "True"
      ]
     },
     "execution_count": 31,
     "metadata": {},
     "output_type": "execute_result"
    }
   ],
   "source": [
    "np.all(np.linalg.eigvals(covmat) > 0)"
   ]
  },
  {
   "cell_type": "code",
   "execution_count": 32,
   "metadata": {},
   "outputs": [
    {
     "data": {
      "text/plain": [
       "True"
      ]
     },
     "execution_count": 32,
     "metadata": {},
     "output_type": "execute_result"
    }
   ],
   "source": [
    "np.all(np.linalg.eigvals(covmat_samearea) > 0)"
   ]
  },
  {
   "cell_type": "code",
   "execution_count": 40,
   "metadata": {},
   "outputs": [
    {
     "data": {
      "text/plain": [
       "array([[ 8.82423910e-10,  0.00000000e+00,  0.00000000e+00, ...,\n",
       "         0.00000000e+00,  0.00000000e+00,  0.00000000e+00],\n",
       "       [ 3.15997012e-11,  5.62470448e-10,  0.00000000e+00, ...,\n",
       "         0.00000000e+00,  0.00000000e+00,  0.00000000e+00],\n",
       "       [ 2.29046182e-11,  2.51424751e-11,  3.93470956e-10, ...,\n",
       "         0.00000000e+00,  0.00000000e+00,  0.00000000e+00],\n",
       "       ...,\n",
       "       [ 1.76372521e-13,  1.96773995e-13,  1.96075148e-13, ...,\n",
       "         2.75668080e-10,  0.00000000e+00,  0.00000000e+00],\n",
       "       [ 1.11374466e-13,  1.24446607e-13,  1.24061072e-13, ...,\n",
       "        -2.98180580e-13,  3.03895992e-10,  0.00000000e+00],\n",
       "       [ 6.92062802e-14,  7.74102246e-14,  7.72159208e-14, ...,\n",
       "        -2.10036036e-13, -1.41097813e-13,  4.16380676e-10]])"
      ]
     },
     "execution_count": 40,
     "metadata": {},
     "output_type": "execute_result"
    }
   ],
   "source": [
    "np.linalg.cholesky(covmat)"
   ]
  },
  {
   "cell_type": "code",
   "execution_count": 49,
   "metadata": {},
   "outputs": [
    {
     "data": {
      "text/plain": [
       "array([[ 3.30710473e+18, -1.98169999e+16, -2.54320557e+16, ...,\n",
       "         0.00000000e+00,  0.00000000e+00,  0.00000000e+00],\n",
       "       [-1.98169999e+16,  6.87695840e+18, -4.37838219e+16, ...,\n",
       "         0.00000000e+00,  0.00000000e+00,  0.00000000e+00],\n",
       "       [-2.54320558e+16, -4.37838219e+16,  1.19792557e+19, ...,\n",
       "         0.00000000e+00,  0.00000000e+00,  0.00000000e+00],\n",
       "       ...,\n",
       "       [ 0.00000000e+00,  0.00000000e+00,  0.00000000e+00, ...,\n",
       "         1.27161408e+19, -1.84703102e+14, -6.45909162e+13],\n",
       "       [ 0.00000000e+00,  0.00000000e+00,  0.00000000e+00, ...,\n",
       "        -1.84703102e+14,  1.06512020e+19, -3.94071352e+13],\n",
       "       [ 0.00000000e+00,  0.00000000e+00,  0.00000000e+00, ...,\n",
       "        -6.45909162e+13, -3.94071352e+13,  5.73118974e+18]])"
      ]
     },
     "execution_count": 49,
     "metadata": {},
     "output_type": "execute_result"
    }
   ],
   "source": [
    "covmat_zero = np.copy(covmat)\n",
    "\n",
    "#kappa kappa is covmat[2340:, 2340:]\n",
    "#rescale to same area\n",
    "covmat_zero[:2340,2340: ] = 0. * covmat_zero[:2340,2340: ]\n",
    "covmat_zero[2340: , :2340] = 0. * covmat_zero[2340:, :2340 ]\n",
    "\n",
    "\n",
    "#inverting works\n",
    "np.linalg.inv(covmat_zero)"
   ]
  },
  {
   "cell_type": "code",
   "execution_count": 51,
   "metadata": {},
   "outputs": [
    {
     "data": {
      "text/plain": [
       "True"
      ]
     },
     "execution_count": 51,
     "metadata": {},
     "output_type": "execute_result"
    }
   ],
   "source": [
    "np.all(np.linalg.eigvals(covmat_zero) > 0)"
   ]
  },
  {
   "cell_type": "code",
   "execution_count": 50,
   "metadata": {},
   "outputs": [
    {
     "data": {
      "text/plain": [
       "0.0"
      ]
     },
     "execution_count": 50,
     "metadata": {},
     "output_type": "execute_result"
    }
   ],
   "source": [
    "covmat_zero[-1, 0]"
   ]
  },
  {
   "cell_type": "code",
   "execution_count": 45,
   "metadata": {},
   "outputs": [
    {
     "data": {
      "text/plain": [
       "2.126082981345376e-23"
      ]
     },
     "execution_count": 45,
     "metadata": {},
     "output_type": "execute_result"
    }
   ],
   "source": [
    "covmat_samearea[-1, 0]"
   ]
  },
  {
   "cell_type": "code",
   "execution_count": 46,
   "metadata": {},
   "outputs": [
    {
     "data": {
      "text/plain": [
       "6.106927629574209e-23"
      ]
     },
     "execution_count": 46,
     "metadata": {},
     "output_type": "execute_result"
    }
   ],
   "source": [
    "covmat[-1, 0]"
   ]
  },
  {
   "cell_type": "code",
   "execution_count": 52,
   "metadata": {},
   "outputs": [
    {
     "data": {
      "text/plain": [
       "array([[8.82423910e-10, 0.00000000e+00, 0.00000000e+00, ...,\n",
       "        0.00000000e+00, 0.00000000e+00, 0.00000000e+00],\n",
       "       [3.15997012e-11, 5.62470448e-10, 0.00000000e+00, ...,\n",
       "        0.00000000e+00, 0.00000000e+00, 0.00000000e+00],\n",
       "       [2.29046182e-11, 2.51424751e-11, 3.93470956e-10, ...,\n",
       "        0.00000000e+00, 0.00000000e+00, 0.00000000e+00],\n",
       "       ...,\n",
       "       [0.00000000e+00, 0.00000000e+00, 0.00000000e+00, ...,\n",
       "        2.80428621e-10, 0.00000000e+00, 0.00000000e+00],\n",
       "       [0.00000000e+00, 0.00000000e+00, 0.00000000e+00, ...,\n",
       "        4.86294042e-15, 3.06408416e-10, 0.00000000e+00],\n",
       "       [0.00000000e+00, 0.00000000e+00, 0.00000000e+00, ...,\n",
       "        3.16048395e-15, 2.10683618e-15, 4.17712630e-10]])"
      ]
     },
     "execution_count": 52,
     "metadata": {},
     "output_type": "execute_result"
    }
   ],
   "source": [
    "np.linalg.cholesky(covmat_zero)"
   ]
  },
  {
   "cell_type": "code",
   "execution_count": 56,
   "metadata": {},
   "outputs": [
    {
     "name": "stdout",
     "output_type": "stream",
     "text": [
      "Filename: ../6x2pt_Roman_SO_v1_2_bf26108.fits\n",
      "No.    Name      Ver    Type      Cards   Dimensions   Format\n",
      "  0  PRIMARY       1 PrimaryHDU       4   ()      \n",
      "  1  COVMAT        1 ImageHDU        21   (2360, 2360)   float64   \n",
      "  2  shear_cl      1 BinTableHDU     28   1100R x 5C   [K, K, K, D, D]   \n",
      "  3  galaxy_shear_cl    1 BinTableHDU     28   640R x 5C   [K, K, K, D, D]   \n",
      "  4  shear_cmbkappa_cl    1 BinTableHDU     28   200R x 5C   [K, K, K, D, D]   \n",
      "  5  galaxy_cl     1 BinTableHDU     28   200R x 5C   [K, K, K, D, D]   \n",
      "  6  galaxy_cmbkappa_cl    1 BinTableHDU     28   200R x 5C   [K, K, K, D, D]   \n",
      "  7  cmbkappa_cl    1 BinTableHDU     28   20R x 5C   [K, K, K, D, D]   \n",
      "  8  nz_source     1 BinTableHDU     36   300R x 13C   [D, D, D, D, D, D, D, D, D, D, D, D, D]   \n",
      "  9  nz_lens       1 BinTableHDU     36   300R x 13C   [D, D, D, D, D, D, D, D, D, D, D, D, D]   \n"
     ]
    }
   ],
   "source": [
    "#safe to test datavector\n",
    "from astropy.io import fits\n",
    "fits_image_filename = \"../6x2pt_Roman_SO_v1_2_bf26108.fits\"\n",
    "hdul = fits.open(fits_image_filename)\n",
    "hdul.info()"
   ]
  },
  {
   "cell_type": "code",
   "execution_count": 57,
   "metadata": {},
   "outputs": [
    {
     "data": {
      "text/plain": [
       "6.106927629574209e-23"
      ]
     },
     "execution_count": 57,
     "metadata": {},
     "output_type": "execute_result"
    }
   ],
   "source": [
    "hdul[1].data[-1, 0]"
   ]
  },
  {
   "cell_type": "code",
   "execution_count": 58,
   "metadata": {},
   "outputs": [],
   "source": [
    "hdul[1].data = covmat_zero"
   ]
  },
  {
   "cell_type": "code",
   "execution_count": 59,
   "metadata": {},
   "outputs": [
    {
     "data": {
      "text/plain": [
       "0.0"
      ]
     },
     "execution_count": 59,
     "metadata": {},
     "output_type": "execute_result"
    }
   ],
   "source": [
    "hdul[1].data[-1, 0]"
   ]
  },
  {
   "cell_type": "code",
   "execution_count": 60,
   "metadata": {},
   "outputs": [],
   "source": [
    "hdul.writeto('../6x2pt_Roman_SO_v1_2_bf26108_zerobetweensurveysRAW.fits')"
   ]
  },
  {
   "cell_type": "code",
   "execution_count": null,
   "metadata": {},
   "outputs": [],
   "source": []
  }
 ],
 "metadata": {
  "interpreter": {
   "hash": "fca7cc64021104fa9d1559f43669b7ade510323b8949076f7847ff63a690363d"
  },
  "kernelspec": {
   "display_name": "Python 3.8.5 64-bit ('cosmology': conda)",
   "name": "python3"
  },
  "language_info": {
   "codemirror_mode": {
    "name": "ipython",
    "version": 3
   },
   "file_extension": ".py",
   "mimetype": "text/x-python",
   "name": "python",
   "nbconvert_exporter": "python",
   "pygments_lexer": "ipython3",
   "version": "3.8.5"
  },
  "orig_nbformat": 4
 },
 "nbformat": 4,
 "nbformat_minor": 2
}
