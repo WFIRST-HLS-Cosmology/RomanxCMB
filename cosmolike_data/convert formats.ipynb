{
 "cells": [
  {
   "cell_type": "code",
   "execution_count": 1,
   "id": "79e73c1b",
   "metadata": {},
   "outputs": [],
   "source": [
    "import numpy as np"
   ]
  },
  {
   "cell_type": "code",
   "execution_count": 7,
   "id": "edc1a2d1",
   "metadata": {},
   "outputs": [],
   "source": [
    "folder = \"covariances_WFIRST_SO_gold_ng_zgauss_pessim_g_ng_npyRAW\"\n",
    "cov = np.load(folder+\"/covariances_WFIRST_SO_gold_ng_zgauss_pessim_g.npy\")\n",
    "np.savetxt(\"covariances_WFIRST_SO_gold_ng_zgauss_pessim_gRAW.txt\", cov)"
   ]
  },
  {
   "cell_type": "code",
   "execution_count": 8,
   "id": "43643de3",
   "metadata": {},
   "outputs": [],
   "source": [
    "cov = np.load(folder+\"/covariances_WFIRST_SO_gold_ng_zgauss_pessim_ng.npy\")\n",
    "np.savetxt(\"covariances_WFIRST_SO_gold_ng_zgauss_pessim_ngRAW.txt\", cov)\n",
    "cov = np.load(folder+\"/covariances_WFIRST_SO_gold_ng_zgauss_pessim.npy\")\n",
    "np.savetxt(\"covariances_WFIRST_SO_gold_ng_zgauss_pessimRAW.txt\", cov)"
   ]
  },
  {
   "cell_type": "code",
   "execution_count": 9,
   "id": "7d2f82e0",
   "metadata": {},
   "outputs": [],
   "source": [
    "\n",
    "\n",
    "folder = \"covariances_WFIRST_SO_gold_ng_zgauss_v2_g_ng_npyRAW\"\n",
    "cov = np.load(folder+\"/covariances_WFIRST_SO_gold_ng_zgauss_v2_ng.npy\")"
   ]
  },
  {
   "cell_type": "code",
   "execution_count": 10,
   "id": "b61edbac",
   "metadata": {},
   "outputs": [
    {
     "data": {
      "text/plain": [
       "array([[3.28689811e-20, 2.78843319e-20, 2.02115827e-20, ...,\n",
       "        4.47044496e-22, 2.82296480e-22, 1.75414438e-22],\n",
       "       [2.78843319e-20, 1.79818238e-20, 1.48656783e-20, ...,\n",
       "        3.33922951e-22, 2.11168910e-22, 1.31347997e-22],\n",
       "       [2.02115827e-20, 1.48656783e-20, 1.00445609e-20, ...,\n",
       "        2.47418596e-22, 1.56528618e-22, 9.74130406e-23],\n",
       "       ...,\n",
       "       [4.47044496e-22, 3.33922951e-22, 2.47418596e-22, ...,\n",
       "        1.64427467e-23, 1.12576832e-23, 7.31620246e-24],\n",
       "       [2.82296480e-22, 2.11168910e-22, 1.56528618e-22, ...,\n",
       "        1.12576832e-23, 7.97076269e-24, 5.32866055e-24],\n",
       "       [1.75414438e-22, 1.31347997e-22, 9.74130406e-23, ...,\n",
       "        7.31620246e-24, 5.32866055e-24, 3.68720569e-24]])"
      ]
     },
     "execution_count": 10,
     "metadata": {},
     "output_type": "execute_result"
    }
   ],
   "source": [
    "cov"
   ]
  },
  {
   "cell_type": "code",
   "execution_count": 11,
   "id": "f541d95b",
   "metadata": {},
   "outputs": [
    {
     "data": {
      "text/plain": [
       "array([[3.28689811e-20, 2.78843319e-20, 2.02115827e-20, ...,\n",
       "        4.47044496e-22, 2.82296480e-22, 1.75414438e-22],\n",
       "       [2.78843319e-20, 1.79818238e-20, 1.48656783e-20, ...,\n",
       "        3.33922951e-22, 2.11168910e-22, 1.31347997e-22],\n",
       "       [2.02115827e-20, 1.48656783e-20, 1.00445609e-20, ...,\n",
       "        2.47418596e-22, 1.56528618e-22, 9.74130406e-23],\n",
       "       ...,\n",
       "       [4.47044496e-22, 3.33922951e-22, 2.47418596e-22, ...,\n",
       "        1.64427467e-23, 1.12576832e-23, 7.31620246e-24],\n",
       "       [2.82296480e-22, 2.11168910e-22, 1.56528618e-22, ...,\n",
       "        1.12576832e-23, 7.97076269e-24, 5.32866055e-24],\n",
       "       [1.75414438e-22, 1.31347997e-22, 9.74130406e-23, ...,\n",
       "        7.31620246e-24, 5.32866055e-24, 3.68720569e-24]])"
      ]
     },
     "execution_count": 11,
     "metadata": {},
     "output_type": "execute_result"
    }
   ],
   "source": [
    "np.loadtxt(\"covariances_WFIRST_SO_gold_ng_zgauss_v2_ng.txt\")"
   ]
  },
  {
   "cell_type": "code",
   "execution_count": null,
   "id": "89ba2665",
   "metadata": {},
   "outputs": [],
   "source": [
    "# confirmed that the optimistic case is the still the same matrix because Cyrille resent me the files"
   ]
  },
  {
   "cell_type": "code",
   "execution_count": 2,
   "id": "0408e810",
   "metadata": {},
   "outputs": [],
   "source": [
    "folder = \"covariances_WFIRST_SO_gold_ng_zgauss_wide_g_ng_npyRAW\"\n",
    "cov = np.load(folder+\"/covariances_WFIRST_SO_gold_ng_zgauss_wide_g.npy\")\n",
    "np.savetxt(\"covariances_WFIRST_SO_gold_ng_zgauss_wide_g.npyRAW.txt\", cov)"
   ]
  },
  {
   "cell_type": "code",
   "execution_count": 3,
   "id": "c02b2fd0",
   "metadata": {},
   "outputs": [],
   "source": [
    "cov = np.load(folder+\"/covariances_WFIRST_SO_gold_ng_zgauss_wide_ng.npy\")\n",
    "np.savetxt(\"covariances_WFIRST_SO_gold_ng_zgauss_wide_ng.npyRAW.txt\", cov)\n",
    "\n",
    "cov = np.load(folder+\"/covariances_WFIRST_SO_gold_ng_zgauss_wide.npy\")\n",
    "np.savetxt(\"covariances_WFIRST_SO_gold_ng_zgauss_wide.npyRAW.txt\", cov)"
   ]
  },
  {
   "cell_type": "code",
   "execution_count": null,
   "id": "edf5698e",
   "metadata": {},
   "outputs": [],
   "source": []
  }
 ],
 "metadata": {
  "kernelspec": {
   "display_name": "Python 3",
   "language": "python",
   "name": "python3"
  },
  "language_info": {
   "codemirror_mode": {
    "name": "ipython",
    "version": 3
   },
   "file_extension": ".py",
   "mimetype": "text/x-python",
   "name": "python",
   "nbconvert_exporter": "python",
   "pygments_lexer": "ipython3",
   "version": "3.8.5"
  }
 },
 "nbformat": 4,
 "nbformat_minor": 5
}
